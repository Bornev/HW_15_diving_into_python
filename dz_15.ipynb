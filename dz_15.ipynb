{
  "nbformat": 4,
  "nbformat_minor": 0,
  "metadata": {
    "colab": {
      "provenance": [],
      "toc_visible": true
    },
    "kernelspec": {
      "name": "python3",
      "display_name": "Python 3"
    },
    "language_info": {
      "name": "python"
    }
  },
  "cells": [
    {
      "cell_type": "markdown",
      "source": [
        "# Погружение в Python\n",
        "##Урок 15. Обзор стандартной библиотеки Python (Итоговое ДЗ)"
      ],
      "metadata": {
        "id": "eTm7FEpDVPpE"
      }
    },
    {
      "cell_type": "markdown",
      "source": [
        "**Задание 1. Логирование с использованием нескольких файлов.**\n",
        "\n",
        "Напишите скрипт, который логирует разные типы сообщений в разные файлы.\n",
        "Логи уровня DEBUG и INFO должны сохраняться в debug_info.log, а логи уровня\n",
        "WARNING и выше — в warnings_errors.log.\n"
      ],
      "metadata": {
        "id": "RDgk0X6XbUjF"
      }
    },
    {
      "cell_type": "code",
      "execution_count": 2,
      "metadata": {
        "colab": {
          "base_uri": "https://localhost:8080/"
        },
        "id": "h5usvOppVLFn",
        "outputId": "9885e516-7f15-478f-f564-0f368064e4d8"
      },
      "outputs": [
        {
          "output_type": "stream",
          "name": "stderr",
          "text": [
            "DEBUG:root:Это сообщение уровня DEBUG.\n",
            "INFO:root:Это сообщение уровня INFO.\n",
            "WARNING:root:Это сообщение уровня WARNING.\n",
            "ERROR:root:Это сообщение уровня ERROR.\n",
            "CRITICAL:root:Это сообщение уровня CRITICAL.\n"
          ]
        }
      ],
      "source": [
        "import logging\n",
        "\n",
        "# Настройка логирования\n",
        "logger = logging.getLogger()\n",
        "logger.setLevel(logging.DEBUG)\n",
        "\n",
        "# Форматтер для сообщений\n",
        "formatter = logging.Formatter('%(asctime)s - %(levelname)s - %(message)s')\n",
        "\n",
        "# Обработчик для сообщений уровня DEBUG и INFO\n",
        "debug_info_handler = logging.FileHandler('debug_info.log')\n",
        "debug_info_handler.setLevel(logging.DEBUG)\n",
        "debug_info_handler.setFormatter(formatter)\n",
        "\n",
        "# Фильтр для DEBUG и INFO\n",
        "class DebugInfoFilter(logging.Filter):\n",
        "    def filter(self, record):\n",
        "        return record.levelno in (logging.DEBUG, logging.INFO)\n",
        "\n",
        "debug_info_handler.addFilter(DebugInfoFilter())\n",
        "logger.addHandler(debug_info_handler)\n",
        "\n",
        "# Обработчик для сообщений уровня WARNING и выше\n",
        "warnings_errors_handler = logging.FileHandler('warnings_errors.log')\n",
        "warnings_errors_handler.setLevel(logging.WARNING)\n",
        "warnings_errors_handler.setFormatter(formatter)\n",
        "\n",
        "# Фильтр для WARNING и выше\n",
        "class WarningsErrorsFilter(logging.Filter):\n",
        "    def filter(self, record):\n",
        "        return record.levelno >= logging.WARNING\n",
        "\n",
        "warnings_errors_handler.addFilter(WarningsErrorsFilter())\n",
        "logger.addHandler(warnings_errors_handler)\n",
        "\n",
        "# Логирование сообщений различных уровней\n",
        "logger.debug('Это сообщение уровня DEBUG.')\n",
        "logger.info('Это сообщение уровня INFO.')\n",
        "logger.warning('Это сообщение уровня WARNING.')\n",
        "logger.error('Это сообщение уровня ERROR.')\n",
        "logger.critical('Это сообщение уровня CRITICAL.')\n",
        "\n",
        "# Закрытие обработчиков\n",
        "for handler in logger.handlers:\n",
        "    handler.close()\n",
        "    logger.removeHandler(handler)"
      ]
    },
    {
      "cell_type": "markdown",
      "source": [
        "**Задача 2. Работа с текущим временем и датой**\n",
        "\n",
        "Напишите скрипт, который получает текущее время и дату, а затем выводит их в\n",
        "формате YYYY-MM-DD HH:MM:SS. Дополнительно, выведите день недели и номер\n",
        "недели в году."
      ],
      "metadata": {
        "id": "E01DwwSXcULF"
      }
    },
    {
      "cell_type": "code",
      "source": [
        "from datetime import datetime\n",
        "\n",
        "def display_current_datetime():\n",
        "    try:\n",
        "        # Получение текущего времени и даты\n",
        "        now = datetime.now()\n",
        "\n",
        "        # Форматирование даты и времени\n",
        "        formatted_date = now.strftime('%Y-%m-%d %H:%M:%S')\n",
        "\n",
        "        # Получение дня недели и номера недели\n",
        "        day_of_week = now.strftime('%A')\n",
        "        week_number = now.isocalendar()[1]\n",
        "\n",
        "        # Вывод результатов\n",
        "        print(f'Current date and time: {formatted_date}')\n",
        "        print(f'Day of the week: {day_of_week}')\n",
        "        print(f'Week number: {week_number}')\n",
        "    except Exception as e:\n",
        "        print(f'An error occurred: {e}')\n",
        "\n",
        "if __name__ == '__main__':\n",
        "    display_current_datetime()"
      ],
      "metadata": {
        "colab": {
          "base_uri": "https://localhost:8080/"
        },
        "id": "ZHYaW_1Tczoe",
        "outputId": "c744fe5a-ec30-4bc3-b10e-dbf90566d687"
      },
      "execution_count": 6,
      "outputs": [
        {
          "output_type": "stream",
          "name": "stdout",
          "text": [
            "Current date and time: 2024-12-15 18:52:30\n",
            "Day of the week: Sunday\n",
            "Week number: 50\n"
          ]
        }
      ]
    },
    {
      "cell_type": "markdown",
      "source": [
        "**Задача 3. Планирование задач**\n",
        "\n",
        "Напишите функцию, которая принимает количество дней от текущей даты и\n",
        "возвращает дату, которая наступит через указанное количество дней. Дополнительно,\n",
        "выведите эту дату в формате YYYY-MM-DD."
      ],
      "metadata": {
        "id": "V4HVl_Dhc4QM"
      }
    },
    {
      "cell_type": "code",
      "source": [
        "from datetime import datetime, timedelta\n",
        "\n",
        "def future_date(days_from_now):\n",
        "    \"\"\"\n",
        "    Возвращает дату, которая наступит через указанное количество дней от текущей даты.\n",
        "    Если количество дней отрицательное, возвращается дата в прошлом.\n",
        "\n",
        "    :param days_from_now: Количество дней от текущей даты (может быть отрицательным).\n",
        "    :return: Отформатированная дата в формате YYYY-MM-DD.\n",
        "\n",
        "    Примеры:\n",
        "    >>> future_date(30)\n",
        "    '2024-09-08'\n",
        "    >>> future_date(-10)\n",
        "    '2024-07-30'\n",
        "    \"\"\"\n",
        "    try:\n",
        "        days_from_now = int(days_from_now)\n",
        "    except ValueError:\n",
        "        raise ValueError(\"Argument must be an integer representing the number of days.\")\n",
        "\n",
        "    today = datetime.now()\n",
        "    future_date = today + timedelta(days=days_from_now)\n",
        "    return future_date.strftime('%Y-%m-%d')\n",
        "\n",
        "if __name__ == '__main__':\n",
        "    try:\n",
        "        days = int(input('Enter the number of days from now (can be negative): '))\n",
        "        print(f'Date {days} days from now: {future_date(days)}')\n",
        "    except ValueError:\n",
        "        print(\"Please enter a valid integer.\")"
      ],
      "metadata": {
        "id": "WLIK8yODc5AF",
        "colab": {
          "base_uri": "https://localhost:8080/"
        },
        "outputId": "f1ca325e-8c37-4e0c-a485-91794cda75dd"
      },
      "execution_count": 14,
      "outputs": [
        {
          "output_type": "stream",
          "name": "stdout",
          "text": [
            "Enter the number of days from now (can be negative): -40\n",
            "Date -40 days from now: 2024-11-05\n"
          ]
        }
      ]
    },
    {
      "cell_type": "markdown",
      "source": [
        "**Задача 4. Опции и флаги**\n",
        "\n",
        "Напишите скрипт, который принимает два аргумента командной строки: число и\n",
        "строку. Добавьте следующие опции:\n",
        "● --verbose, если этот флаг установлен, скрипт должен выводить\n",
        "дополнительную информацию о процессе.\n",
        "● --repeat, если этот параметр установлен, он должен указывать,\n",
        "сколько раз повторить строку в выводе.\n"
      ],
      "metadata": {
        "id": "Xfa-_F6UdTjl"
      }
    },
    {
      "cell_type": "code",
      "source": [
        "import argparse\n",
        "\n",
        "def main():\n",
        "    # Создание парсера аргументов\n",
        "    parser = argparse.ArgumentParser(\n",
        "        description='Скрипт принимает число и строку, а также обрабатывает опции для повторения строки и вывода дополнительной информации.'\n",
        "    )\n",
        "    parser.add_argument('number', type=int, help='Целое число для вывода в процессе.')\n",
        "    parser.add_argument('text', type=str, help='Строка, которая будет обработана и выведена.')\n",
        "    parser.add_argument('--verbose', action='store_true', help='Если установлено, выводит дополнительные сведения.')\n",
        "    parser.add_argument('--repeat', type=int, default=2, help='Указывает, сколько раз повторить строку (по умолчанию 2).')\n",
        "\n",
        "    # Парсинг аргументов\n",
        "    args = parser.parse_args()\n",
        "\n",
        "    # Проверка корректности значения для --repeat\n",
        "    if args.repeat < 1:\n",
        "        print('Ошибка: Опция --repeat должна быть положительным числом.')\n",
        "        return\n",
        "\n",
        "    # Вывод дополнительной информации, если опция verbose установлена\n",
        "    if args.verbose:\n",
        "        print(f'Выполняется вывод строки \"{args.text}\" {args.repeat} раз с числом {args.number}.')\n",
        "\n",
        "    # Вывод строки, повторенной указанное количество раз\n",
        "    repeated_text = \" \".join([args.text] * args.repeat)\n",
        "    print(f'Число: {args.number}, Строка: {repeated_text}')\n",
        "\n",
        "def main():\n",
        "    # Симуляция аргументов для тестирования\n",
        "    number = 42\n",
        "    text = \"Пример\"\n",
        "    verbose = True\n",
        "    repeat = 3\n",
        "\n",
        "    if repeat < 1:\n",
        "        print('Ошибка: Опция --repeat должна быть положительным числом.')\n",
        "        return\n",
        "\n",
        "    if verbose:\n",
        "        print(f'Выполняется вывод строки \"{text}\" {repeat} раз с числом {number}.')\n",
        "\n",
        "    repeated_text = \" \".join([text] * repeat)\n",
        "    print(f'Число: {number}, Строка: {repeated_text}')\n",
        "\n",
        "if __name__ == '__main__':\n",
        "    main()"
      ],
      "metadata": {
        "id": "bPjHng0PdWcL",
        "colab": {
          "base_uri": "https://localhost:8080/"
        },
        "outputId": "966fb16e-987b-43d8-c563-aeb00dfa1a98"
      },
      "execution_count": 16,
      "outputs": [
        {
          "output_type": "stream",
          "name": "stdout",
          "text": [
            "Выполняется вывод строки \"Пример\" 3 раз с числом 42.\n",
            "Число: 42, Строка: Пример Пример Пример\n"
          ]
        }
      ]
    },
    {
      "cell_type": "markdown",
      "source": [
        "**Задача 5. Запуск из командной строки**\n",
        "\n",
        "Задача 5. Запуск из командной строки\n",
        "Напишите код, который запускается из командной строки и получает на вход путь\n",
        "до директории на ПК. Соберите информацию о содержимом в виде объектов\n",
        "namedtuple. Каждый объект хранит: имя файла без расширения или название\n",
        "каталога, расширение, если это файл, флаг каталога, название родительского\n",
        "каталога. В процессе сбора сохраните данные в текстовый файл используя\n",
        "логирование."
      ],
      "metadata": {
        "id": "9B56zkx8tFSD"
      }
    },
    {
      "cell_type": "code",
      "source": [
        "import os\n",
        "import logging\n",
        "from collections import namedtuple\n",
        "from argparse import ArgumentParser\n",
        "\n",
        "# Определение namedtuple для хранения информации о файле/каталоге\n",
        "FileInfo = namedtuple('FileInfo', ['name', 'extension', 'is_directory', 'parent_directory'])\n",
        "\n",
        "# Настройка логирования\n",
        "logging.basicConfig(\n",
        "    filename='directory_contents.log',\n",
        "    level=logging.INFO,\n",
        "    format='%(asctime)s - %(message)s'\n",
        ")\n",
        "\n",
        "def collect_info(directory_path):\n",
        "    \"\"\"\n",
        "    Собирает информацию о содержимом директории и сохраняет в лог.\n",
        "    :param directory_path: Путь до анализируемой директории.\n",
        "    \"\"\"\n",
        "    if not os.path.isdir(directory_path):\n",
        "        raise ValueError(f\"Указанный путь {directory_path} не является директорией.\")\n",
        "\n",
        "    parent_directory = os.path.basename(os.path.abspath(directory_path))\n",
        "\n",
        "    with os.scandir(directory_path) as entries:\n",
        "        for entry in entries:\n",
        "            if entry.is_dir():\n",
        "                file_info = FileInfo(name=entry.name, extension=None, is_directory=True, parent_directory=parent_directory)\n",
        "            else:\n",
        "                name, extension = os.path.splitext(entry.name)\n",
        "                file_info = FileInfo(name=name, extension=extension.lstrip('.'), is_directory=False, parent_directory=parent_directory)\n",
        "\n",
        "            # Запись в лог\n",
        "            logging.info(\n",
        "                f'{file_info.name} | {file_info.extension if file_info.extension else \"N/A\"} | '\n",
        "                f'{\"Directory\" if file_info.is_directory else \"File\"} | {file_info.parent_directory}'\n",
        "            )\n",
        "\n",
        "            # Опционально, вывод в консоль\n",
        "            print(f'{file_info.name} | {file_info.extension if file_info.extension else \"N/A\"} | '\n",
        "                  f'{\"Directory\" if file_info.is_directory else \"File\"} | {file_info.parent_directory}')\n",
        "\n",
        "\n",
        "def main():\n",
        "    \"\"\"\n",
        "    Основная функция для обработки командной строки и сбора информации.\n",
        "    \"\"\"\n",
        "    parser = ArgumentParser(description=\"Сбор информации о содержимом директории и запись в лог.\")\n",
        "    parser.add_argument('directory', type=str, help=\"Путь до директории для анализа\")\n",
        "    # Игнорирование неизвестных аргументов (например, передаваемых Colab)\n",
        "    args, unknown = parser.parse_known_args()\n",
        "\n",
        "    try:\n",
        "        collect_info(args.directory)\n",
        "        print(f'Информация о содержимом директории \"{args.directory}\" успешно записана в файл \"directory_contents.log\".')\n",
        "    except ValueError as e:\n",
        "        print(f'Ошибка: {e}')\n",
        "    except PermissionError:\n",
        "        print('Ошибка: Недостаточно прав для доступа к указанной директории.')\n",
        "    except FileNotFoundError:\n",
        "        print('Ошибка: Указанная директория не найдена.')\n",
        "    except Exception as e:\n",
        "        print(f'Непредвиденная ошибка: {e}')\n",
        "\n",
        "\n",
        "if __name__ == '__main__':\n",
        "    main()\n"
      ],
      "metadata": {
        "colab": {
          "base_uri": "https://localhost:8080/"
        },
        "id": "f9dUhvq-tMpR",
        "outputId": "4bfe2e72-ff36-4a45-942c-230f565f8606"
      },
      "execution_count": 18,
      "outputs": [
        {
          "output_type": "stream",
          "name": "stdout",
          "text": [
            "Ошибка: Указанный путь /root/.local/share/jupyter/runtime/kernel-0345166b-3cb9-4562-8348-9db610022b77.json не является директорией.\n"
          ]
        }
      ]
    }
  ]
}